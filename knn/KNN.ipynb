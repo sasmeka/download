{
 "cells": [
  {
   "cell_type": "code",
   "execution_count": 1,
   "metadata": {
    "scrolled": true
   },
   "outputs": [],
   "source": [
    "import numpy as np\n",
    "import pandas as pd\n",
    "import matplotlib.pyplot as plt\n",
    "import seaborn as sns\n",
    "from sklearn.neighbors import KNeighborsClassifier\n",
    "from sklearn.model_selection import train_test_split"
   ]
  },
  {
   "cell_type": "code",
   "execution_count": 2,
   "metadata": {},
   "outputs": [],
   "source": [
    "data_orj = pd.read_csv(\"BlackFriday.csv\")\n",
    "data = data_orj.loc [1:20000,'Gender':'Purchase']"
   ]
  },
  {
   "cell_type": "code",
   "execution_count": 3,
   "metadata": {},
   "outputs": [
    {
     "data": {
      "text/html": [
       "<div>\n",
       "<style scoped>\n",
       "    .dataframe tbody tr th:only-of-type {\n",
       "        vertical-align: middle;\n",
       "    }\n",
       "\n",
       "    .dataframe tbody tr th {\n",
       "        vertical-align: top;\n",
       "    }\n",
       "\n",
       "    .dataframe thead th {\n",
       "        text-align: right;\n",
       "    }\n",
       "</style>\n",
       "<table border=\"1\" class=\"dataframe\">\n",
       "  <thead>\n",
       "    <tr style=\"text-align: right;\">\n",
       "      <th></th>\n",
       "      <th>Gender</th>\n",
       "      <th>Age</th>\n",
       "      <th>Occupation</th>\n",
       "      <th>City_Category</th>\n",
       "      <th>Stay_In_Current_City_Years</th>\n",
       "      <th>Marital_Status</th>\n",
       "      <th>Product_Category_1</th>\n",
       "      <th>Product_Category_2</th>\n",
       "      <th>Product_Category_3</th>\n",
       "      <th>Purchase</th>\n",
       "    </tr>\n",
       "  </thead>\n",
       "  <tbody>\n",
       "    <tr>\n",
       "      <th>1</th>\n",
       "      <td>F</td>\n",
       "      <td>0-17</td>\n",
       "      <td>10</td>\n",
       "      <td>A</td>\n",
       "      <td>2</td>\n",
       "      <td>0</td>\n",
       "      <td>1</td>\n",
       "      <td>6.0</td>\n",
       "      <td>14.0</td>\n",
       "      <td>15200</td>\n",
       "    </tr>\n",
       "    <tr>\n",
       "      <th>2</th>\n",
       "      <td>F</td>\n",
       "      <td>0-17</td>\n",
       "      <td>10</td>\n",
       "      <td>A</td>\n",
       "      <td>2</td>\n",
       "      <td>0</td>\n",
       "      <td>12</td>\n",
       "      <td>NaN</td>\n",
       "      <td>NaN</td>\n",
       "      <td>1422</td>\n",
       "    </tr>\n",
       "    <tr>\n",
       "      <th>3</th>\n",
       "      <td>F</td>\n",
       "      <td>0-17</td>\n",
       "      <td>10</td>\n",
       "      <td>A</td>\n",
       "      <td>2</td>\n",
       "      <td>0</td>\n",
       "      <td>12</td>\n",
       "      <td>14.0</td>\n",
       "      <td>NaN</td>\n",
       "      <td>1057</td>\n",
       "    </tr>\n",
       "    <tr>\n",
       "      <th>4</th>\n",
       "      <td>M</td>\n",
       "      <td>55+</td>\n",
       "      <td>16</td>\n",
       "      <td>C</td>\n",
       "      <td>4+</td>\n",
       "      <td>0</td>\n",
       "      <td>8</td>\n",
       "      <td>NaN</td>\n",
       "      <td>NaN</td>\n",
       "      <td>7969</td>\n",
       "    </tr>\n",
       "    <tr>\n",
       "      <th>5</th>\n",
       "      <td>M</td>\n",
       "      <td>26-35</td>\n",
       "      <td>15</td>\n",
       "      <td>A</td>\n",
       "      <td>3</td>\n",
       "      <td>0</td>\n",
       "      <td>1</td>\n",
       "      <td>2.0</td>\n",
       "      <td>NaN</td>\n",
       "      <td>15227</td>\n",
       "    </tr>\n",
       "  </tbody>\n",
       "</table>\n",
       "</div>"
      ],
      "text/plain": [
       "  Gender    Age  Occupation City_Category Stay_In_Current_City_Years  \\\n",
       "1      F   0-17          10             A                          2   \n",
       "2      F   0-17          10             A                          2   \n",
       "3      F   0-17          10             A                          2   \n",
       "4      M    55+          16             C                         4+   \n",
       "5      M  26-35          15             A                          3   \n",
       "\n",
       "   Marital_Status  Product_Category_1  Product_Category_2  Product_Category_3  \\\n",
       "1               0                   1                 6.0                14.0   \n",
       "2               0                  12                 NaN                 NaN   \n",
       "3               0                  12                14.0                 NaN   \n",
       "4               0                   8                 NaN                 NaN   \n",
       "5               0                   1                 2.0                 NaN   \n",
       "\n",
       "   Purchase  \n",
       "1     15200  \n",
       "2      1422  \n",
       "3      1057  \n",
       "4      7969  \n",
       "5     15227  "
      ]
     },
     "execution_count": 3,
     "metadata": {},
     "output_type": "execute_result"
    }
   ],
   "source": [
    "data.head()"
   ]
  },
  {
   "cell_type": "code",
   "execution_count": 4,
   "metadata": {},
   "outputs": [
    {
     "data": {
      "text/plain": [
       "M    15271\n",
       "F     4729\n",
       "Name: Gender, dtype: int64"
      ]
     },
     "execution_count": 4,
     "metadata": {},
     "output_type": "execute_result"
    },
    {
     "data": {
      "image/png": "[encoded data removed]",
      "text/plain": [
       "<Figure size 432x288 with 1 Axes>"
      ]
     },
     "metadata": {
      "needs_background": "light"
     },
     "output_type": "display_data"
    }
   ],
   "source": [
    "sns.countplot(x='Gender', data=data)\n",
    "data.loc[:,'Gender'].value_counts()"
   ]
  },
  {
   "cell_type": "code",
   "execution_count": 5,
   "metadata": {},
   "outputs": [],
   "source": [
    "data_knn = data[['Occupation','Gender', 'Purchase']]"
   ]
  },
  {
   "cell_type": "code",
   "execution_count": 6,
   "metadata": {},
   "outputs": [
    {
     "name": "stdout",
     "output_type": "stream",
     "text": [
      "Masukkan K : 3\n"
     ]
    }
   ],
   "source": [
    "inK = int(input(\"Masukkan K : \"))"
   ]
  },
  {
   "cell_type": "code",
   "execution_count": 14,
   "metadata": {},
   "outputs": [
    {
     "name": "stdout",
     "output_type": "stream",
     "text": [
      "14000\n",
      "6000\n"
     ]
    }
   ],
   "source": [
    "knn = KNeighborsClassifier(n_neighbors = inK)\n",
    "x,y = data_knn.loc[:,data_knn.columns != 'Gender'], data_knn.loc[:,'Gender']\n",
    "x_train,x_test,y_train,y_test = train_test_split(x,y,test_size = 0.3, random_state = 42)\n",
    "knn.fit(x_train,y_train)\n",
    "prediction = knn.predict(x_test)\n",
    "print (len(x_train))\n",
    "print (len(x_test))"
   ]
  },
  {
   "cell_type": "code",
   "execution_count": 8,
   "metadata": {},
   "outputs": [
    {
     "name": "stdout",
     "output_type": "stream",
     "text": [
      "KNN dengan (K=, 3 ) Akurasinya adalah:  0.6991666666666667\n"
     ]
    }
   ],
   "source": [
    "print('KNN dengan (K=,',inK,') Akurasinya adalah: ', knn.score(x_test,y_test))"
   ]
  },
  {
   "cell_type": "code",
   "execution_count": 9,
   "metadata": {},
   "outputs": [
    {
     "data": {
      "image/png": "[encoded data removed]",
      "text/plain": [
       "<Figure size 936x576 with 1 Axes>"
      ]
     },
     "metadata": {
      "needs_background": "light"
     },
     "output_type": "display_data"
    },
    {
     "name": "stdout",
     "output_type": "stream",
     "text": [
      "Akurasi terbaik 0.7605 dengan K = 29\n"
     ]
    }
   ],
   "source": [
    "#Best K value selection\n",
    "neig = np.arange(1,30)\n",
    "train_accuracy = []\n",
    "test_accuracy = []\n",
    "for i, k in enumerate (neig):\n",
    "    knn = KNeighborsClassifier(n_neighbors = k)\n",
    "    knn.fit(x_train,y_train)\n",
    "    train_accuracy.append(knn.score(x_train,y_train))\n",
    "    test_accuracy.append(knn.score(x_test,y_test))\n",
    "\n",
    "# Plot\n",
    "plt.figure(figsize=(13,8))\n",
    "plt.plot(neig, test_accuracy, label = 'Testing Akurasi')\n",
    "plt.plot(neig, train_accuracy, label = 'Training Akurasi')\n",
    "plt.legend()\n",
    "plt.title('AKURASI')\n",
    "plt.xlabel('Pilihan K')\n",
    "plt.ylabel('Akurasi')\n",
    "plt.xticks(neig)\n",
    "plt.show()\n",
    "print('Akurasi terbaik {} dengan K = {}'.format(np.max(test_accuracy),1+test_accuracy.index(np.max(test_accuracy))))"
   ]
  },
  {
   "cell_type": "code",
   "execution_count": 10,
   "metadata": {},
   "outputs": [
    {
     "name": "stdout",
     "output_type": "stream",
     "text": [
      "Data Asli dan Prediksinya\n",
      "       Occupation  Purchase Gender prediction\n",
      "10651           0     20088      M          M\n",
      "2042           11      5323      M          F\n",
      "8669           10      9567      M          M\n",
      "1115            1      6907      F          M\n",
      "13903          16     11533      M          M\n",
      "11964          11      7825      M          M\n",
      "11073          20      7762      M          M\n",
      "3003           14      1828      M          F\n",
      "19772          10     11613      M          M\n",
      "8116           17      6061      M          M\n",
      "3526           17     19538      F          M\n",
      "7880           13      9984      M          M\n",
      "16442          11     16550      M          M\n",
      "16297           7      9934      M          F\n",
      "12567           1      5323      M          M\n",
      "5253            2      2980      F          F\n",
      "19394           3      4043      F          M\n",
      "16797           3      1534      M          M\n",
      "8095           17       397      M          M\n",
      "323             0     10766      M          M\n",
      "9924            0      3673      M          M\n",
      "7460           19      7826      F          F\n",
      "19025           0      7181      M          F\n",
      "17554           1      4406      M          M\n",
      "9120            3      4071      M          M\n",
      "16422           9      8343      F          M\n",
      "16061           7     11969      M          M\n",
      "10121           4      7182      M          F\n",
      "19056           4      5187      F          M\n",
      "3650            1      4083      F          F\n",
      "...           ...       ...    ...        ...\n",
      "19991           4      8621      F          M\n",
      "1226            4     15682      M          M\n",
      "16191           5      5342      M          M\n",
      "18455           5      4635      F          M\n",
      "3334            5      8069      M          M\n",
      "4755            1      7115      F          M\n",
      "3620           11      9988      F          M\n",
      "13434           3     19998      M          M\n",
      "16485           5      5225      F          M\n",
      "11834           0      3077      M          M\n",
      "10985           6     11798      F          M\n",
      "6527            0      3696      M          F\n",
      "14182          15     12045      M          M\n",
      "4861           17      3702      M          M\n",
      "18141           1     10043      M          M\n",
      "19655           1      9803      F          F\n",
      "8391           19     16481      F          M\n",
      "2223            0      7954      F          M\n",
      "4680           12      5226      M          M\n",
      "8487            2      8056      F          F\n",
      "3797            4     16665      M          M\n",
      "2228            1      8566      F          M\n",
      "15388          12      5454      M          M\n",
      "946             4     15470      M          M\n",
      "1275            7      3603      M          M\n",
      "4465            3     18364      M          F\n",
      "15657           1      8707      M          M\n",
      "19147           0      8077      M          M\n",
      "10568           0      7623      M          M\n",
      "9166            0      8111      F          M\n",
      "\n",
      "[6000 rows x 4 columns]\n"
     ]
    }
   ],
   "source": [
    "datatest = pd.DataFrame(x_test)\n",
    "datatest[\"Gender\"] = y_test\n",
    "datatest[\"prediction\"] = prediction\n",
    "print (\"Data Asli dan Prediksinya\")\n",
    "print (datatest)"
   ]
  },
  {
   "cell_type": "code",
   "execution_count": null,
   "metadata": {},
   "outputs": [],
   "source": []
  }
 ],
 "metadata": {
  "kernelspec": {
   "display_name": "Python 3",
   "language": "python",
   "name": "python3"
  },
  "language_info": {
   "codemirror_mode": {
    "name": "ipython",
    "version": 3
   },
   "file_extension": ".py",
   "mimetype": "text/x-python",
   "name": "python",
   "nbconvert_exporter": "python",
   "pygments_lexer": "ipython3",
   "version": "3.7.1"
  }
 },
 "nbformat": 4,
 "nbformat_minor": 2
}
